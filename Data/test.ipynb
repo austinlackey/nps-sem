{
 "cells": [
  {
   "cell_type": "code",
   "execution_count": 1,
   "metadata": {},
   "outputs": [],
   "source": [
    "import pandas as pd\n",
    "import numpy as np\n",
    "import os"
   ]
  },
  {
   "cell_type": "code",
   "execution_count": 2,
   "metadata": {},
   "outputs": [],
   "source": [
    "data = pd.read_parquet('codedData.parquet')"
   ]
  },
  {
   "cell_type": "code",
   "execution_count": 8,
   "metadata": {},
   "outputs": [
    {
     "name": "stdout",
     "output_type": "stream",
     "text": [
      "  s_hisp  weight_peak\n",
      "0     No       251.66\n",
      "1    Yes         9.60\n"
     ]
    },
    {
     "data": {
      "text/plain": [
       "0    0.96\n",
       "1    0.04\n",
       "Name: weight_peak, dtype: float64"
      ]
     },
     "execution_count": 8,
     "metadata": {},
     "output_type": "execute_result"
    }
   ],
   "source": [
    "#group data by s_residence and sum weight_peak\n",
    "print(data.groupby(['s_hisp']).sum()['weight_peak'].reset_index())\n",
    "# calculate the percentage of each group dont include nulls\n",
    "round(data.groupby(['s_hisp']).sum()['weight_peak'].reset_index()['weight_peak']/data.groupby(['s_hisp']).sum()['weight_peak'].reset_index()['weight_peak'].sum(), 2)"
   ]
  },
  {
   "cell_type": "code",
   "execution_count": 13,
   "metadata": {},
   "outputs": [
    {
     "data": {
      "text/plain": [
       "0.9442075747099947"
      ]
     },
     "execution_count": 13,
     "metadata": {},
     "output_type": "execute_result"
    }
   ],
   "source": [
    "(983.26)/(58.10+983.26)"
   ]
  }
 ],
 "metadata": {
  "kernelspec": {
   "display_name": "main",
   "language": "python",
   "name": "python3"
  },
  "language_info": {
   "codemirror_mode": {
    "name": "ipython",
    "version": 3
   },
   "file_extension": ".py",
   "mimetype": "text/x-python",
   "name": "python",
   "nbconvert_exporter": "python",
   "pygments_lexer": "ipython3",
   "version": "3.11.5"
  }
 },
 "nbformat": 4,
 "nbformat_minor": 2
}
