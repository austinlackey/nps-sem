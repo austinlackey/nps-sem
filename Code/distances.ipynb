{
 "cells": [
  {
   "cell_type": "code",
   "execution_count": 20,
   "metadata": {},
   "outputs": [],
   "source": [
    "import pgeocode\n",
    "import pandas as pd\n",
    "import numpy as np\n",
    "from sklearn.metrics.pairwise import haversine_distances\n",
    "from math import radians\n",
    "import requests\n",
    "from bs4 import BeautifulSoup\n",
    "import re"
   ]
  },
  {
   "cell_type": "code",
   "execution_count": 58,
   "metadata": {},
   "outputs": [],
   "source": [
    "def get_geodesic_info(zip1: int = None, zip2: int = None) -> int:\n",
    "    \"\"\"Retrieve LAT/LONG coordinates for two given zip codes\n",
    "    \n",
    "    Parameters:\n",
    "    zip1 (int): Location A zipcode\n",
    "    zip2 (int): Location B zipcode\n",
    "\n",
    "    Returns:\n",
    "    (int): dataframe containing geodesic information on zipcode pair\n",
    "    \"\"\"\n",
    "    nomi = pgeocode.Nominatim('us') # Use United States Zip Codes\n",
    "    # Extract Information\n",
    "    return(pd.DataFrame(nomi.query_postal_code([str(zip1), str(zip2)])).drop(columns=['county_code', 'community_name', 'community_code', 'accuracy']))\n",
    "def haversine_distance(geodesic_info: pd.DataFrame = None) -> int:\n",
    "    \"\"\" Return distance (as crow files) in miles between two coordinates\n",
    "    \n",
    "    Parameters:\n",
    "    geodesic_info (pd.DataFrame): Dataframe returned from get_geodesic_indo\n",
    "\n",
    "    Returns:\n",
    "    (float): Distance in miles between the two coordinates\n",
    "    \"\"\"\n",
    "    geodesic_info = geodesic_info[['latitude', 'longitude']] # Extract Coordinates\n",
    "    geodesic_info = geodesic_info.applymap(radians) # Convert to Radians\n",
    "    # Calculate and Extract Haversine Distance\n",
    "    distance = haversine_distances([geodesic_info.iloc[0,:].values, geodesic_info.iloc[1,:].values])[0][1]\n",
    "    distance = distance * 3958.75587 # Multiply by Earth radius to get miles\n",
    "    return(distance)"
   ]
  },
  {
   "cell_type": "code",
   "execution_count": 26,
   "metadata": {},
   "outputs": [
    {
     "data": {
      "text/html": [
       "<div>\n",
       "<style scoped>\n",
       "    .dataframe tbody tr th:only-of-type {\n",
       "        vertical-align: middle;\n",
       "    }\n",
       "\n",
       "    .dataframe tbody tr th {\n",
       "        vertical-align: top;\n",
       "    }\n",
       "\n",
       "    .dataframe thead th {\n",
       "        text-align: right;\n",
       "    }\n",
       "</style>\n",
       "<table border=\"1\" class=\"dataframe\">\n",
       "  <thead>\n",
       "    <tr style=\"text-align: right;\">\n",
       "      <th></th>\n",
       "      <th>postal_code</th>\n",
       "      <th>country_code</th>\n",
       "      <th>place_name</th>\n",
       "      <th>state_name</th>\n",
       "      <th>state_code</th>\n",
       "      <th>county_name</th>\n",
       "      <th>latitude</th>\n",
       "      <th>longitude</th>\n",
       "    </tr>\n",
       "  </thead>\n",
       "  <tbody>\n",
       "    <tr>\n",
       "      <th>0</th>\n",
       "      <td>80525</td>\n",
       "      <td>US</td>\n",
       "      <td>Fort Collins</td>\n",
       "      <td>Colorado</td>\n",
       "      <td>CO</td>\n",
       "      <td>Larimer</td>\n",
       "      <td>40.5384</td>\n",
       "      <td>-105.0547</td>\n",
       "    </tr>\n",
       "    <tr>\n",
       "      <th>1</th>\n",
       "      <td>83012</td>\n",
       "      <td>US</td>\n",
       "      <td>Moose</td>\n",
       "      <td>Wyoming</td>\n",
       "      <td>WY</td>\n",
       "      <td>Teton</td>\n",
       "      <td>43.7150</td>\n",
       "      <td>-110.7420</td>\n",
       "    </tr>\n",
       "  </tbody>\n",
       "</table>\n",
       "</div>"
      ],
      "text/plain": [
       "  postal_code country_code    place_name state_name state_code county_name  \\\n",
       "0       80525           US  Fort Collins   Colorado         CO     Larimer   \n",
       "1       83012           US         Moose    Wyoming         WY       Teton   \n",
       "\n",
       "   latitude  longitude  \n",
       "0   40.5384  -105.0547  \n",
       "1   43.7150  -110.7420  "
      ]
     },
     "execution_count": 26,
     "metadata": {},
     "output_type": "execute_result"
    }
   ],
   "source": [
    "get_geodesic_info('80525', '83012')"
   ]
  },
  {
   "cell_type": "code",
   "execution_count": 61,
   "metadata": {},
   "outputs": [
    {
     "data": {
      "text/plain": [
       "4.163244343914067"
      ]
     },
     "execution_count": 61,
     "metadata": {},
     "output_type": "execute_result"
    }
   ],
   "source": [
    "haversine_distance(get_geodesic_info(80525, 80524))"
   ]
  },
  {
   "cell_type": "code",
   "execution_count": 89,
   "metadata": {},
   "outputs": [],
   "source": [
    "def get_postal_code(unitCode: str = None) -> int:\n",
    "    \"\"\"Retrieve the zipcode from a park unitcode\n",
    "\n",
    "    Parameters:\n",
    "    untiCode (str): 4-character park unitCode\n",
    "\n",
    "    Returns:\n",
    "    (int): Park zipcode\n",
    "    \"\"\"\n",
    "    if unitCode is None: # Ensure unitCode provided\n",
    "        return\n",
    "    url = str(\"https://www.nps.gov/\" + unitCode + \"/contacts.htm\") # Build URL\n",
    "    page = requests.get(url) # Access URL\n",
    "    soup = BeautifulSoup(page.content, 'html.parser') # Retrieve html information\n",
    "    mailing_information = soup.find('div', class_='mailing-address').text.replace('\\n', ' ') # Find Mailing Information\n",
    "    mailing_information = ' '.join(mailing_information.split()) # Remove Whitespace\n",
    "    # Matching ex: 'FL 33034-6733'\n",
    "    text = re.search(r'\\s?[A-Z]{2}\\s(\\d{5})(-\\d{4})?', mailing_information) # Search for the zipcode information \n",
    "    if text is None: # Error no Match\n",
    "        print(\"ERROR: No REGEX MATCH\")\n",
    "        return\n",
    "    return(int(text.group(1))) # Return 5 digit zipcode only"
   ]
  },
  {
   "cell_type": "code",
   "execution_count": 90,
   "metadata": {},
   "outputs": [
    {
     "data": {
      "text/plain": [
       "80517"
      ]
     },
     "execution_count": 90,
     "metadata": {},
     "output_type": "execute_result"
    }
   ],
   "source": [
    "get_postal_code('romo')"
   ]
  }
 ],
 "metadata": {
  "kernelspec": {
   "display_name": "Python 3",
   "language": "python",
   "name": "python3"
  },
  "language_info": {
   "codemirror_mode": {
    "name": "ipython",
    "version": 3
   },
   "file_extension": ".py",
   "mimetype": "text/x-python",
   "name": "python",
   "nbconvert_exporter": "python",
   "pygments_lexer": "ipython3",
   "version": "3.10.11"
  },
  "orig_nbformat": 4
 },
 "nbformat": 4,
 "nbformat_minor": 2
}
